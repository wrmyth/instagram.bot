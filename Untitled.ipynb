{
 "cells": [
  {
   "cell_type": "code",
   "execution_count": 343,
   "id": "2903a9db-97b0-4459-b88e-1debc701cf11",
   "metadata": {},
   "outputs": [
    {
     "ename": "IndentationError",
     "evalue": "unexpected indent (Temp/ipykernel_8468/636653614.py, line 46)",
     "output_type": "error",
     "traceback": [
      "\u001b[1;36m  File \u001b[1;32m\"C:\\Users\\wrmyt\\AppData\\Local\\Temp/ipykernel_8468/636653614.py\"\u001b[1;36m, line \u001b[1;32m46\u001b[0m\n\u001b[1;33m    sleep(2)\u001b[0m\n\u001b[1;37m    ^\u001b[0m\n\u001b[1;31mIndentationError\u001b[0m\u001b[1;31m:\u001b[0m unexpected indent\n"
     ]
    }
   ],
   "source": [
    "from selenium import webdriver\n",
    "from time import sleep\n",
    "\n",
    "driver = webdriver.Chrome(executable_path=\"/chromedriver/chromedriver.exe\")\n",
    "\n",
    "driver.get(\"https://instagram.com\")\n",
    "sleep(4)\n",
    "\n",
    "#giriş bilgileri\n",
    "driver.find_element_by_xpath(\"//input[@name='username']\")\\\n",
    "    .send_keys(\"stillium_outlet\")\n",
    "driver.find_element_by_xpath(\"//input[@name='password']\")\\\n",
    "    .send_keys(\"Erkantolaman07\")\n",
    "driver.find_element_by_xpath(\"//button[@type='submit']\")\\\n",
    "    .click()\n",
    "sleep(3)\n",
    "\n",
    "#sifrekayitiptali\n",
    "driver.find_element_by_xpath(\"/html/body/div[1]/section/main/div/div/div/div/button\")\\\n",
    "    .click()\n",
    "sleep(4)\n",
    "\n",
    "#sifrekayitiptali\n",
    "#driver.find_element_by_xpath(\"/html/body/div[4]/div/div/div/div[3]/button[2]\")\\\n",
    "   # .click()\n",
    "#sleep(4)\n",
    "\n",
    "#bildirimiptali\n",
    "driver.find_element_by_xpath(\"/html/body/div[5]/div/div/div/div[3]/button[2]\")\\\n",
    "    .click()\n",
    "sleep(3)\n",
    "\n",
    "#hastag giriş\n",
    "driver.get(f\"https://www.instagram.com/explore/tags/cars/\")\n",
    "sleep(3)\n",
    "\n",
    "#post seç\n",
    "driver.find_element_by_xpath(\"/html/body/div[1]/section/main/article/div[1]/div/div/div[1]/div[1]/a/div/div[2]\")\\\n",
    "    .click()\n",
    "sleep(2)\n",
    "\n",
    "  \n",
    "#begen       \n",
    "driver.find_element_by_xpath(\"/html/body/div[6]/div[2]/div/article/div[3]/section[1]/span[1]/button\")\\\n",
    ".click()\n",
    "        sleep(2)\n",
    "    \n",
    "#yorumyap\n",
    "[commentsub = driver.find_element_by_class_name('Ypffh')\n",
    "commentsub.click()\n",
    "commentsub = driver.find_element_by_class_name('Ypffh')\n",
    "commentsub.send_keys(\"I love Antalya\")]\n",
    " \n",
    "\n",
    "driver.find_element_by_xpath(\"//button[@type='submit']\")\\\n",
    "    .click()\n",
    "sleep(2)\n",
    "\n",
    "\n",
    "#post-sahibini-takip-et\n",
    "driver.find_element_by_xpath(\"/html/body/div[6]/div[2]/div/article/header/div[2]/div[1]/div[2]/button\")\\\n",
    ".click()\n",
    "sleep(2)\n",
    "\n",
    "#sonraki-post-a-geç\n",
    "commentsub = driver.find_element_by_class_name('_65Bje')\n",
    "commentsub.click()\n",
    "\n",
    "\n",
    "    \n",
    "\n",
    "  "
   ]
  },
  {
   "cell_type": "code",
   "execution_count": null,
   "id": "a42afcb5-c03f-41d3-937a-9d1bccf6f5e2",
   "metadata": {
    "tags": []
   },
   "outputs": [],
   "source": []
  },
  {
   "cell_type": "code",
   "execution_count": null,
   "id": "c30cd22d-baac-4cbc-a6d8-61de4ea5e597",
   "metadata": {},
   "outputs": [],
   "source": []
  },
  {
   "cell_type": "code",
   "execution_count": 134,
   "id": "7db15b1c-57f0-4780-852a-ec812c3bc914",
   "metadata": {},
   "outputs": [
    {
     "ename": "SyntaxError",
     "evalue": "invalid syntax (Temp/ipykernel_8468/1824550133.py, line 45)",
     "output_type": "error",
     "traceback": [
      "\u001b[1;36m  File \u001b[1;32m\"C:\\Users\\wrmyt\\AppData\\Local\\Temp/ipykernel_8468/1824550133.py\"\u001b[1;36m, line \u001b[1;32m45\u001b[0m\n\u001b[1;33m    commentsub = driver.find_element_by_class_name('Ypffh')\u001b[0m\n\u001b[1;37m               ^\u001b[0m\n\u001b[1;31mSyntaxError\u001b[0m\u001b[1;31m:\u001b[0m invalid syntax\n"
     ]
    }
   ],
   "source": []
  },
  {
   "cell_type": "code",
   "execution_count": null,
   "id": "aabe2061-50b2-4811-b21f-f8bb0943cebc",
   "metadata": {},
   "outputs": [],
   "source": []
  },
  {
   "cell_type": "code",
   "execution_count": null,
   "id": "7c78bb22-4710-4f44-bb88-d84100e25f49",
   "metadata": {},
   "outputs": [],
   "source": []
  }
 ],
 "metadata": {
  "kernelspec": {
   "display_name": "Python 3 (ipykernel)",
   "language": "python",
   "name": "python3"
  },
  "language_info": {
   "codemirror_mode": {
    "name": "ipython",
    "version": 3
   },
   "file_extension": ".py",
   "mimetype": "text/x-python",
   "name": "python",
   "nbconvert_exporter": "python",
   "pygments_lexer": "ipython3",
   "version": "3.9.0"
  }
 },
 "nbformat": 4,
 "nbformat_minor": 5
}
